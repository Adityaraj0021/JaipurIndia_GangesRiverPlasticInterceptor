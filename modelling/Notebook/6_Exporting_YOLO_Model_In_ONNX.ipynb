{
  "cells": [
    {
      "cell_type": "markdown",
      "metadata": {
        "id": "l5DwluqC5ID2"
      },
      "source": [
        "## Before you start"
      ]
    },
    {
      "cell_type": "markdown",
      "metadata": {
        "id": "_ZBUwM3tyFWS"
      },
      "source": [
        "Let's make sure that we have access to GPU. We can use `nvidia-smi` command to do that. In case of any problems navigate to `Edit` -> `Notebook settings` -> `Hardware accelerator` and set it to `GPU`."
      ]
    },
    {
      "cell_type": "code",
      "execution_count": null,
      "metadata": {
        "colab": {
          "base_uri": "https://localhost:8080/"
        },
        "id": "Iil0J4nTHHb_",
        "outputId": "38667ec1-3883-40fa-bb93-9835903b6440"
      },
      "outputs": [
        {
          "output_type": "stream",
          "name": "stdout",
          "text": [
            "/bin/bash: line 1: nvidia-smi: command not found\n"
          ]
        }
      ],
      "source": [
        "!nvidia-smi"
      ]
    },
    {
      "cell_type": "markdown",
      "source": [
        "**NOTE:** To make it easier for us to manage datasets, images and models we create a `HOME` constant."
      ],
      "metadata": {
        "id": "bAUlHJmNraVd"
      }
    },
    {
      "cell_type": "code",
      "source": [
        "import os\n",
        "HOME = os.getcwd()\n",
        "print(HOME)"
      ],
      "metadata": {
        "colab": {
          "base_uri": "https://localhost:8080/"
        },
        "id": "xKG7O_RPrcQQ",
        "outputId": "75b70c27-b111-459f-eeff-18a91af95380"
      },
      "execution_count": null,
      "outputs": [
        {
          "output_type": "stream",
          "name": "stdout",
          "text": [
            "/content\n"
          ]
        }
      ]
    },
    {
      "cell_type": "markdown",
      "metadata": {
        "id": "lD2DYEzunnVz"
      },
      "source": [
        "## Mount Google Drive"
      ]
    },
    {
      "cell_type": "code",
      "execution_count": null,
      "metadata": {
        "colab": {
          "base_uri": "https://localhost:8080/"
        },
        "id": "7Er6Tf_unp7X",
        "outputId": "bee0d47f-970e-456a-8395-aff9b79aaeae"
      },
      "outputs": [
        {
          "output_type": "stream",
          "name": "stdout",
          "text": [
            "Mounted at /content/drive\n"
          ]
        }
      ],
      "source": [
        "from google.colab import drive\n",
        "drive.mount(\"/content/drive\")"
      ]
    },
    {
      "cell_type": "markdown",
      "metadata": {
        "id": "6MJ8SshpLaU3"
      },
      "source": [
        "## Install YOLO11 via Ultralytics"
      ]
    },
    {
      "cell_type": "code",
      "execution_count": null,
      "metadata": {
        "colab": {
          "base_uri": "https://localhost:8080/"
        },
        "id": "fM1JmUCQLdKp",
        "outputId": "d1984f0e-57c7-4f94-f43b-9fc10a300173"
      },
      "outputs": [
        {
          "output_type": "stream",
          "name": "stdout",
          "text": [
            "Ultralytics 8.3.40 🚀 Python-3.10.12 torch-2.5.1+cu121 CPU (Intel Xeon 2.20GHz)\n",
            "Setup complete ✅ (2 CPUs, 12.7 GB RAM, 32.7/107.7 GB disk)\n"
          ]
        }
      ],
      "source": [
        "%pip install \"ultralytics<=8.3.40\" supervision roboflow\n",
        "import ultralytics\n",
        "ultralytics.checks()"
      ]
    },
    {
      "cell_type": "markdown",
      "source": [
        "## Image Pre-processing"
      ],
      "metadata": {
        "id": "FTzvlxzDKCCs"
      }
    },
    {
      "cell_type": "code",
      "execution_count": null,
      "metadata": {
        "id": "g_RMSwNfYX1Z"
      },
      "outputs": [],
      "source": [
        "import cv2\n",
        "\n",
        "def pad_and_resize(image, target_size, pad_color=(0, 0, 0)):\n",
        "    \"\"\"\n",
        "    Resizes the image while preserving the aspect ratio, padding the shorter side.\n",
        "\n",
        "    Parameters:\n",
        "    - image: input image (numpy array)\n",
        "    - target_size: tuple (width, height) of the target size\n",
        "    - pad_color: color to use for padding, default is black (0, 0, 0)\n",
        "\n",
        "    Returns:\n",
        "    - resized image with padding\n",
        "    \"\"\"\n",
        "    original_height, original_width = image.shape[:2]\n",
        "    target_width, target_height = target_size\n",
        "\n",
        "    # Calculate the aspect ratio of the image and the target size\n",
        "    aspect_ratio_image = original_width / original_height\n",
        "    aspect_ratio_target = target_width / target_height\n",
        "\n",
        "    if aspect_ratio_image > aspect_ratio_target:\n",
        "        # Wider than target, resize based on width\n",
        "        new_width = target_width\n",
        "        new_height = int(new_width / aspect_ratio_image)\n",
        "    else:\n",
        "        # Taller than target, resize based on height\n",
        "        new_height = target_height\n",
        "        new_width = int(new_height * aspect_ratio_image)\n",
        "\n",
        "    resized_image = cv2.resize(image, (new_width, new_height), interpolation=cv2.INTER_AREA)\n",
        "\n",
        "    # Calculate padding\n",
        "    pad_top = (target_height - new_height) // 2\n",
        "    pad_bottom = target_height - new_height - pad_top\n",
        "    pad_left = (target_width - new_width) // 2\n",
        "    pad_right = target_width - new_width - pad_left\n",
        "\n",
        "    # Pad the image\n",
        "    padded_image = cv2.copyMakeBorder(resized_image, pad_top, pad_bottom, pad_left, pad_right, cv2.BORDER_CONSTANT, value=pad_color)\n",
        "\n",
        "    return padded_image"
      ]
    },
    {
      "cell_type": "code",
      "source": [
        "import numpy as np\n",
        "\n",
        "def image_loader(image_path, target_size=(640, 640)):\n",
        "  img = cv2.imread(image_path) #BGR\n",
        "  img = pad_and_resize(img, target_size)\n",
        "  img = img[::-1] #RGB\n",
        "  img = img[np.newaxis, ...].astype(np.float32)\n",
        "  img = img.transpose(0, 3, 1, 2)\n",
        "  return img"
      ],
      "metadata": {
        "id": "pJnjCgj0KVAT"
      },
      "execution_count": null,
      "outputs": []
    },
    {
      "cell_type": "code",
      "source": [
        "input_img_path = \"/content/Aerial_Location_1_14.jpg\"\n",
        "img = image_loader(input_img_path)\n",
        "print(img.shape)"
      ],
      "metadata": {
        "colab": {
          "base_uri": "https://localhost:8080/"
        },
        "id": "kIYRfmF6LXec",
        "outputId": "02069197-b575-4fcc-8dc0-ac9d82a02cc6"
      },
      "execution_count": null,
      "outputs": [
        {
          "output_type": "stream",
          "name": "stdout",
          "text": [
            "(1, 3, 640, 640)\n"
          ]
        }
      ]
    },
    {
      "cell_type": "markdown",
      "source": [
        "## ONNX Runtime"
      ],
      "metadata": {
        "id": "CkOguqv9J_S2"
      }
    },
    {
      "cell_type": "code",
      "source": [
        "!yolo task=segment mode=export model=/content/drive/MyDrive/Aerial_River_Plastic_Wastes/yolo11/result_1/runs/segment/train/weights/best.pt format=onnx imgsz=640 opset=13"
      ],
      "metadata": {
        "colab": {
          "base_uri": "https://localhost:8080/"
        },
        "id": "3HetThsOFvDi",
        "outputId": "1a6b8cf0-a56c-4591-ef41-b8f428d902bd"
      },
      "execution_count": null,
      "outputs": [
        {
          "output_type": "stream",
          "name": "stdout",
          "text": [
            "Ultralytics 8.3.40 🚀 Python-3.10.12 torch-2.5.1+cu121 CPU (Intel Xeon 2.20GHz)\n",
            "YOLO11s-seg summary (fused): 265 layers, 10,067,590 parameters, 0 gradients, 35.3 GFLOPs\n",
            "\n",
            "\u001b[34m\u001b[1mPyTorch:\u001b[0m starting from '/content/drive/MyDrive/Aerial_River_Plastic_Wastes/yolo11/result_1/runs/segment/train/weights/best.pt' with input shape (1, 3, 640, 640) BCHW and output shape(s) ((1, 38, 8400), (1, 32, 160, 160)) (19.6 MB)\n",
            "\u001b[31m\u001b[1mrequirements:\u001b[0m Ultralytics requirements ['onnx>=1.12.0', 'onnxslim', 'onnxruntime'] not found, attempting AutoUpdate...\n",
            "Collecting onnx>=1.12.0\n",
            "  Downloading onnx-1.17.0-cp310-cp310-manylinux_2_17_x86_64.manylinux2014_x86_64.whl.metadata (16 kB)\n",
            "Collecting onnxslim\n",
            "  Downloading onnxslim-0.1.45-py3-none-any.whl.metadata (4.2 kB)\n",
            "Collecting onnxruntime\n",
            "  Downloading onnxruntime-1.20.1-cp310-cp310-manylinux_2_27_x86_64.manylinux_2_28_x86_64.whl.metadata (4.5 kB)\n",
            "Requirement already satisfied: numpy>=1.20 in /usr/local/lib/python3.10/dist-packages (from onnx>=1.12.0) (1.26.4)\n",
            "Requirement already satisfied: protobuf>=3.20.2 in /usr/local/lib/python3.10/dist-packages (from onnx>=1.12.0) (4.25.5)\n",
            "Requirement already satisfied: sympy in /usr/local/lib/python3.10/dist-packages (from onnxslim) (1.13.1)\n",
            "Requirement already satisfied: packaging in /usr/local/lib/python3.10/dist-packages (from onnxslim) (24.2)\n",
            "Collecting coloredlogs (from onnxruntime)\n",
            "  Downloading coloredlogs-15.0.1-py2.py3-none-any.whl.metadata (12 kB)\n",
            "Requirement already satisfied: flatbuffers in /usr/local/lib/python3.10/dist-packages (from onnxruntime) (24.3.25)\n",
            "Collecting humanfriendly>=9.1 (from coloredlogs->onnxruntime)\n",
            "  Downloading humanfriendly-10.0-py2.py3-none-any.whl.metadata (9.2 kB)\n",
            "Requirement already satisfied: mpmath<1.4,>=1.1.0 in /usr/local/lib/python3.10/dist-packages (from sympy->onnxslim) (1.3.0)\n",
            "Downloading onnx-1.17.0-cp310-cp310-manylinux_2_17_x86_64.manylinux2014_x86_64.whl (16.0 MB)\n",
            "   ━━━━━━━━━━━━━━━━━━━━━━━━━━━━━━━━━━━━━━━━ 16.0/16.0 MB 163.2 MB/s eta 0:00:00\n",
            "Downloading onnxslim-0.1.45-py3-none-any.whl (142 kB)\n",
            "   ━━━━━━━━━━━━━━━━━━━━━━━━━━━━━━━━━━━━━━━━ 142.6/142.6 kB 181.8 MB/s eta 0:00:00\n",
            "Downloading onnxruntime-1.20.1-cp310-cp310-manylinux_2_27_x86_64.manylinux_2_28_x86_64.whl (13.3 MB)\n",
            "   ━━━━━━━━━━━━━━━━━━━━━━━━━━━━━━━━━━━━━━━━ 13.3/13.3 MB 181.8 MB/s eta 0:00:00\n",
            "Downloading coloredlogs-15.0.1-py2.py3-none-any.whl (46 kB)\n",
            "   ━━━━━━━━━━━━━━━━━━━━━━━━━━━━━━━━━━━━━━━━ 46.0/46.0 kB 124.9 MB/s eta 0:00:00\n",
            "Downloading humanfriendly-10.0-py2.py3-none-any.whl (86 kB)\n",
            "   ━━━━━━━━━━━━━━━━━━━━━━━━━━━━━━━━━━━━━━━━ 86.8/86.8 kB 159.8 MB/s eta 0:00:00\n",
            "Installing collected packages: onnx, humanfriendly, onnxslim, coloredlogs, onnxruntime\n",
            "Successfully installed coloredlogs-15.0.1 humanfriendly-10.0 onnx-1.17.0 onnxruntime-1.20.1 onnxslim-0.1.45\n",
            "\n",
            "\u001b[31m\u001b[1mrequirements:\u001b[0m AutoUpdate success ✅ 13.7s, installed 3 packages: ['onnx>=1.12.0', 'onnxslim', 'onnxruntime']\n",
            "\u001b[31m\u001b[1mrequirements:\u001b[0m ⚠️ \u001b[1mRestart runtime or rerun command for updates to take effect\u001b[0m\n",
            "\n",
            "\n",
            "\u001b[34m\u001b[1mONNX:\u001b[0m starting export with onnx 1.17.0 opset 13...\n",
            "\u001b[34m\u001b[1mONNX:\u001b[0m slimming with onnxslim 0.1.45...\n",
            "\u001b[34m\u001b[1mONNX:\u001b[0m export success ✅ 17.4s, saved as '/content/drive/MyDrive/Aerial_River_Plastic_Wastes/yolo11/result_1/runs/segment/train/weights/best.onnx' (38.7 MB)\n",
            "\n",
            "Export complete (20.0s)\n",
            "Results saved to \u001b[1m/content/drive/MyDrive/Aerial_River_Plastic_Wastes/yolo11/result_1/runs/segment/train/weights\u001b[0m\n",
            "Predict:         yolo predict task=segment model=/content/drive/MyDrive/Aerial_River_Plastic_Wastes/yolo11/result_1/runs/segment/train/weights/best.onnx imgsz=640  \n",
            "Validate:        yolo val task=segment model=/content/drive/MyDrive/Aerial_River_Plastic_Wastes/yolo11/result_1/runs/segment/train/weights/best.onnx imgsz=640 data=/kaggle/working/datasets/Aerial_River_Plastic_Wastes-10/data.yaml  \n",
            "Visualize:       https://netron.app\n",
            "💡 Learn more at https://docs.ultralytics.com/modes/export\n"
          ]
        }
      ]
    },
    {
      "cell_type": "code",
      "source": [
        "# Loading model using ONNX-Runtime\n",
        "import onnxruntime as ort\n",
        "\n",
        "model_path = f\"/content/drive/MyDrive/Aerial_River_Plastic_Wastes/yolo11/result_1/runs/segment/train/weights/best.onnx\"\n",
        "session = ort.InferenceSession(model_path)"
      ],
      "metadata": {
        "id": "sOTQJfXFHHnV"
      },
      "execution_count": null,
      "outputs": []
    },
    {
      "cell_type": "code",
      "source": [
        "outputs = session.run(None, {\"images\": img})"
      ],
      "metadata": {
        "id": "2U9fYj17H5vw"
      },
      "execution_count": null,
      "outputs": []
    },
    {
      "cell_type": "code",
      "source": [
        "outputs"
      ],
      "metadata": {
        "colab": {
          "base_uri": "https://localhost:8080/"
        },
        "id": "d_-QUEAUJclX",
        "outputId": "81d9e4af-acbf-4bec-eb03-ef3e79ee70cd"
      },
      "execution_count": null,
      "outputs": [
        {
          "output_type": "execute_result",
          "data": {
            "text/plain": [
              "[array([[[     4.3351,      10.896,      19.059, ...,      551.15,      573.59,      604.79],\n",
              "         [     4.6109,      4.6285,       4.585, ...,      572.17,      576.91,      589.59],\n",
              "         [     8.5384,      11.751,      10.046, ...,      262.91,      250.42,      273.52],\n",
              "         ...,\n",
              "         [    0.12957,     0.15135,     0.13226, ...,    -0.66867,    -0.58661,    -0.41044],\n",
              "         [    0.19579,     0.17518,     0.13301, ...,     -0.7402,    -0.65537,    -0.37453],\n",
              "         [   -0.38748,    -0.29909,    -0.21724, ...,      -1.012,    -0.84028,    -0.24442]]], dtype=float32),\n",
              " array([[[[    0.15643,     0.25919,     0.31111, ...,     0.90424,     0.74214,     0.39832],\n",
              "          [    0.26348,     0.41484,     0.46478, ...,      2.1057,      2.1741,      0.9542],\n",
              "          [    0.37085,     0.37548,     0.57932, ...,      1.9129,      2.0605,     0.96066],\n",
              "          ...,\n",
              "          [    0.19764,     0.31145,     0.57659, ...,      1.3001,      1.0435,     0.46108],\n",
              "          [    0.18582,      0.2316,     0.58249, ...,      1.1067,      1.0148,     0.40714],\n",
              "          [    0.19266,    0.074902,     0.15917, ...,     0.33638,     0.26567,     0.25579]],\n",
              " \n",
              "         [[    0.34963,     0.28031,      0.3159, ...,    -0.12311,    -0.18143,   -0.073063],\n",
              "          [    0.36813,     0.40033,      0.5609, ...,     0.37636,    0.027881,    -0.13403],\n",
              "          [    0.36866,     0.50068,     0.63467, ...,     0.50516,     0.18445,    -0.12579],\n",
              "          ...,\n",
              "          [    0.27495,     0.39452,     0.56007, ...,      0.6404,      0.6709,    0.054072],\n",
              "          [     0.1717,     0.20042,     0.37927, ...,     0.56005,     0.61124,    0.090551],\n",
              "          [    0.24313,    0.051855,     0.12069, ...,     0.17649,     0.23913,     0.15671]],\n",
              " \n",
              "         [[    0.11302,     0.12497,    0.085302, ...,    -0.20908,    -0.26887,    -0.23015],\n",
              "          [    0.16724,   -0.020812,     0.14515, ...,   -0.045281,    -0.22794,    -0.27823],\n",
              "          [   0.090202,     0.21261,     0.12216, ...,       0.384,   -0.070282,    -0.23833],\n",
              "          ...,\n",
              "          [    0.17555,     0.12806,     0.13621, ...,     0.61668,     0.38946,    -0.18202],\n",
              "          [   0.036953,   -0.052681,   -0.060095, ...,     0.66098,     0.44481,    -0.18144],\n",
              "          [-0.00096643,    -0.25883,    -0.26525, ...,    -0.14811,    -0.20219,    -0.19051]],\n",
              " \n",
              "         ...,\n",
              " \n",
              "         [[    0.59771,     0.72482,     0.78887, ...,     0.79586,     0.83827,     0.57051],\n",
              "          [    0.61016,     0.63594,     0.77966, ...,       1.164,      1.3168,     0.56777],\n",
              "          [    0.61132,     0.73791,     0.76741, ...,      1.3662,      1.3257,     0.74939],\n",
              "          ...,\n",
              "          [    0.56116,     0.58857,     0.64459, ...,     0.64472,     0.53948,     0.39974],\n",
              "          [    0.56123,     0.59994,     0.64061, ...,     0.81282,     0.69648,      0.4235],\n",
              "          [    0.42917,     0.13454,     0.16922, ...,     0.16057,     0.15563,     0.25126]],\n",
              " \n",
              "         [[ 0.00078922,   -0.060672,   0.0037819, ...,    -0.27846,    -0.25608,    -0.25902],\n",
              "          [  -0.026143,   -0.090886,    0.056294, ...,    -0.27719,    -0.27724,    -0.27535],\n",
              "          [    0.20201,     0.17752,     0.39077, ...,    -0.19869,    -0.25688,    -0.21167],\n",
              "          ...,\n",
              "          [  -0.012603,    -0.20739,   -0.070504, ...,    -0.26562,    -0.27777,    -0.18387],\n",
              "          [  -0.035449,     -0.2352,     -0.1703, ...,    -0.24938,    -0.27532,    -0.18229],\n",
              "          [   0.073177,    -0.22167,     -0.1853, ...,    -0.22953,    -0.24596,    -0.10289]],\n",
              " \n",
              "         [[    0.46699,     0.42708,      0.4067, ...,   -0.045894,    -0.15323,     0.14577],\n",
              "          [    0.48296,     0.47036,     0.49516, ...,    0.065879,    -0.15362,    0.067033],\n",
              "          [    0.57094,     0.55797,     0.61595, ...,     0.19949,   -0.062654,      0.1364],\n",
              "          ...,\n",
              "          [    0.50633,     0.44255,     0.53704, ...,     0.64972,     0.31783,     0.45174],\n",
              "          [    0.45297,     0.34914,     0.37155, ...,      0.5716,     0.31384,     0.45238],\n",
              "          [    0.51495,     0.39177,     0.39396, ...,     0.56597,      0.4504,     0.53489]]]], dtype=float32)]"
            ]
          },
          "metadata": {},
          "execution_count": 15
        }
      ]
    },
    {
      "cell_type": "code",
      "source": [],
      "metadata": {
        "id": "B6lbaEpCOiM1"
      },
      "execution_count": null,
      "outputs": []
    }
  ],
  "metadata": {
    "accelerator": "GPU",
    "colab": {
      "gpuType": "T4",
      "provenance": []
    },
    "kernelspec": {
      "display_name": "Python 3",
      "name": "python3"
    },
    "language_info": {
      "name": "python"
    }
  },
  "nbformat": 4,
  "nbformat_minor": 0
}